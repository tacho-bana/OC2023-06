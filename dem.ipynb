{
 "cells": [
  {
   "cell_type": "code",
   "execution_count": 2,
   "metadata": {},
   "outputs": [
    {
     "name": "stdout",
     "output_type": "stream",
     "text": [
      "/Users/tachibananoyushou/.local/share/virtualenvs/BohPJ-NbU7cm-R/bin/python3: No module named demucs\n"
     ]
    }
   ],
   "source": [
    "!python3 -m demucs -d cpu 千本桜.mp3"
   ]
  }
 ],
 "metadata": {
  "kernelspec": {
   "display_name": "BohPJ-NbU7cm-R",
   "language": "python",
   "name": "python3"
  },
  "language_info": {
   "codemirror_mode": {
    "name": "ipython",
    "version": 3
   },
   "file_extension": ".py",
   "mimetype": "text/x-python",
   "name": "python",
   "nbconvert_exporter": "python",
   "pygments_lexer": "ipython3",
   "version": "3.10.11"
  },
  "orig_nbformat": 4
 },
 "nbformat": 4,
 "nbformat_minor": 2
}
